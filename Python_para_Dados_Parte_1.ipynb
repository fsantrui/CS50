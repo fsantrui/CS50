{
  "nbformat": 4,
  "nbformat_minor": 0,
  "metadata": {
    "colab": {
      "provenance": [],
      "include_colab_link": true
    },
    "kernelspec": {
      "name": "python3",
      "display_name": "Python 3"
    },
    "language_info": {
      "name": "python"
    }
  },
  "cells": [
    {
      "cell_type": "markdown",
      "metadata": {
        "id": "view-in-github",
        "colab_type": "text"
      },
      "source": [
        "<a href=\"https://colab.research.google.com/github/fsantrui/CS50/blob/main/Python_para_Dados_Parte_1.ipynb\" target=\"_parent\"><img src=\"https://colab.research.google.com/assets/colab-badge.svg\" alt=\"Open In Colab\"/></a>"
      ]
    },
    {
      "cell_type": "markdown",
      "source": [
        "# 1 - Variáveis e tipos de dados"
      ],
      "metadata": {
        "id": "WYZ4TN93SBBW"
      }
    },
    {
      "cell_type": "code",
      "execution_count": null,
      "metadata": {
        "id": "Nj2lOh_q7Uv1"
      },
      "outputs": [],
      "source": [
        "# Variáveis - Definição das variáveis\n",
        "'''\n",
        "Variáveis são espaços alocados para armazenar valores, que podem ser\n",
        "principalmente texto (strings - str), números inteiros (integer - int) ou\n",
        "números com casas decimais (float)\n",
        "'''\n",
        "cliente = 'Douglas' # esta linha cria a variável cliente e atribuiu a ela o valor textual 'Douglas'\n",
        "idade = 48 # esta linha cria a variável idade e atribuiu a ela o valor numérico e inteiro 48\n",
        "altura = 1.85 # esta linha cria a variável altura e atribuiu a ela o valor numérico com casas decimais 1.85"
      ]
    },
    {
      "cell_type": "code",
      "source": [
        "# exibindo variáveis criadas anteriomente\n",
        "print(cliente)\n",
        "print(idade)\n",
        "print(altura)"
      ],
      "metadata": {
        "id": "r9mYnIN6TfxH",
        "colab": {
          "base_uri": "https://localhost:8080/"
        },
        "outputId": "4148e2f1-ac54-4575-94f4-d779042e0a04"
      },
      "execution_count": null,
      "outputs": [
        {
          "output_type": "stream",
          "name": "stdout",
          "text": [
            "Douglas\n",
            "48\n",
            "1.85\n"
          ]
        }
      ]
    },
    {
      "cell_type": "code",
      "source": [
        "# Verificando o tipo de valor de uma variável\n",
        "type(idade)"
      ],
      "metadata": {
        "id": "kKBz8KNcVvDm",
        "colab": {
          "base_uri": "https://localhost:8080/"
        },
        "outputId": "fcea1cac-3269-4521-8688-b955aef78047"
      },
      "execution_count": null,
      "outputs": [
        {
          "output_type": "execute_result",
          "data": {
            "text/plain": [
              "int"
            ]
          },
          "metadata": {},
          "execution_count": 10
        }
      ]
    },
    {
      "cell_type": "code",
      "source": [
        "# Convertendo o tipo de um valor de uma variável em outro tipo\n",
        "idade = str(idade)\n",
        "print(type(idade))\n",
        "idade = int(idade)\n",
        "print(type(idade))\n",
        "idade = float(idade)\n",
        "print(type(idade))"
      ],
      "metadata": {
        "id": "2gSERDr0VmGU",
        "colab": {
          "base_uri": "https://localhost:8080/"
        },
        "outputId": "ab909a37-2d67-4441-c846-226e1ed913a0"
      },
      "execution_count": null,
      "outputs": [
        {
          "output_type": "stream",
          "name": "stdout",
          "text": [
            "<class 'str'>\n",
            "<class 'int'>\n",
            "<class 'float'>\n"
          ]
        }
      ]
    },
    {
      "cell_type": "markdown",
      "source": [
        "# 2 - Operadores matemáticos"
      ],
      "metadata": {
        "id": "3jp6rT8WWVz0"
      }
    },
    {
      "cell_type": "code",
      "source": [
        "# soma (+)\n",
        "'''\n",
        "Criar uma variável que recebe a soma de 3 + 2 e exibir o resultado\n",
        "dessa soma\n",
        "'''\n",
        "soma = 3 + 2\n",
        "print(soma)"
      ],
      "metadata": {
        "id": "vhS67kx7WZfz",
        "colab": {
          "base_uri": "https://localhost:8080/"
        },
        "outputId": "54de26b5-79d0-48e2-b7f1-c8f655e0eaeb"
      },
      "execution_count": null,
      "outputs": [
        {
          "output_type": "stream",
          "name": "stdout",
          "text": [
            "5\n"
          ]
        }
      ]
    },
    {
      "cell_type": "code",
      "source": [
        "# subtração (-)\n",
        "'''\n",
        "Criar uma variável que recebe o cálculo 3 - 2 e exibir o resultado\n",
        "desse cálculo\n",
        "'''\n",
        "sub = 3 - 2\n",
        "print(sub)"
      ],
      "metadata": {
        "id": "jw9PZX_zWblP",
        "colab": {
          "base_uri": "https://localhost:8080/"
        },
        "outputId": "d437e142-c2bc-4900-e24b-a03032006179"
      },
      "execution_count": null,
      "outputs": [
        {
          "output_type": "stream",
          "name": "stdout",
          "text": [
            "1\n"
          ]
        }
      ]
    },
    {
      "cell_type": "code",
      "source": [
        "# multiplicação (*)\n",
        "'''\n",
        "Criar uma variável que recebe o cálculo 3 x 2 e exibir o resultado\n",
        "desse cálculo\n",
        "'''\n",
        "mult = 3 * 2\n",
        "print(mult)"
      ],
      "metadata": {
        "id": "aBzXSsMIWeBp",
        "colab": {
          "base_uri": "https://localhost:8080/"
        },
        "outputId": "cfa2c536-f849-4f24-ffc1-4518f5d8a52e"
      },
      "execution_count": null,
      "outputs": [
        {
          "output_type": "stream",
          "name": "stdout",
          "text": [
            "6\n"
          ]
        }
      ]
    },
    {
      "cell_type": "code",
      "source": [
        "# divisão\n",
        "'''\n",
        "Criar uma variável que recebe o cálculo 3 x 2 e exibir o resultado\n",
        "desse cálculo\n",
        "'''\n",
        "div = 3 / 2\n",
        "print(div)"
      ],
      "metadata": {
        "id": "ukIBy93nWgNG",
        "colab": {
          "base_uri": "https://localhost:8080/"
        },
        "outputId": "16760bbb-3d9c-4aa1-f474-b274fa242862"
      },
      "execution_count": null,
      "outputs": [
        {
          "output_type": "stream",
          "name": "stdout",
          "text": [
            "1.5\n"
          ]
        }
      ]
    },
    {
      "cell_type": "code",
      "source": [
        "# parte inteira da divisão\n",
        "'''\n",
        "Criar uma variável que recebe a parte inteira do cálculo 3 / 2 e exibir o\n",
        "resultado desse cálculo\n",
        "'''\n",
        "intdiv = 3 // 2\n",
        "print(intdiv)"
      ],
      "metadata": {
        "id": "0svrGw_tWjYj",
        "colab": {
          "base_uri": "https://localhost:8080/"
        },
        "outputId": "2496e66e-1356-435e-eff0-39e1c8bdd15b"
      },
      "execution_count": null,
      "outputs": [
        {
          "output_type": "stream",
          "name": "stdout",
          "text": [
            "1\n"
          ]
        }
      ]
    },
    {
      "cell_type": "code",
      "source": [
        "# resto da divisão\n",
        "'''\n",
        "Criar uma variável que recebe o resto do cálculo 3 / 2 e exibir o\n",
        "resultado desse cálculo\n",
        "'''\n",
        "restdiv = 3 % 2\n",
        "print(restdiv)"
      ],
      "metadata": {
        "id": "v3FVKtUNWmbz",
        "colab": {
          "base_uri": "https://localhost:8080/"
        },
        "outputId": "5fd3c538-8950-46a8-aa63-ad6d55ac2789"
      },
      "execution_count": null,
      "outputs": [
        {
          "output_type": "stream",
          "name": "stdout",
          "text": [
            "1\n"
          ]
        }
      ]
    },
    {
      "cell_type": "code",
      "source": [
        "# exponenciação\n",
        "'''\n",
        "Criar uma variável que recebe o cálculo 3 elevado 2 e exibir o resultado\n",
        "desse cálculo\n",
        "'''\n",
        "poten = 3 ** 2\n",
        "print(poten)"
      ],
      "metadata": {
        "id": "Pspx2-hJWoml",
        "colab": {
          "base_uri": "https://localhost:8080/"
        },
        "outputId": "78d5c2fb-ff34-4046-c9cc-e5beb5005397"
      },
      "execution_count": null,
      "outputs": [
        {
          "output_type": "stream",
          "name": "stdout",
          "text": [
            "9\n"
          ]
        }
      ]
    },
    {
      "cell_type": "markdown",
      "source": [
        "# 3 - Recebendo valores do usuário"
      ],
      "metadata": {
        "id": "JiwGB1HxYn2X"
      }
    },
    {
      "cell_type": "code",
      "source": [
        "'''\n",
        "Quando desejamos permitir que o usuário informe o valor que ficará armazenado\n",
        "em uma determinada variável, utilizamos a função input\n",
        "'''\n",
        "nome = input('Informe seu nome: ')\n",
        "peso = float(input('Informe seu peso em kg: '))\n",
        "altura = float(input('Informe sua altura em metros: '))\n",
        "imc = peso/altura**2\n",
        "print(round(imc,2))"
      ],
      "metadata": {
        "id": "IL_5L55eYuhs",
        "colab": {
          "base_uri": "https://localhost:8080/"
        },
        "outputId": "26099c7c-8b6f-4eac-92cf-981ddb666fb7"
      },
      "execution_count": null,
      "outputs": [
        {
          "output_type": "stream",
          "name": "stdout",
          "text": [
            "Informe seu nome: Douglas\n",
            "Informe seu peso em kg: 84\n",
            "Informe sua altura em metros: 1.85\n",
            "24.54\n"
          ]
        }
      ]
    },
    {
      "cell_type": "markdown",
      "source": [
        "# 4 - Prints formatados - f-strings"
      ],
      "metadata": {
        "id": "kQKNzop1a-09"
      }
    },
    {
      "cell_type": "code",
      "source": [
        "'''\n",
        "Agora imagine que você deseja exibir no mesmo print um texto padrão e os\n",
        "resultados das informações fornecidas pelo usuário e o imc\n",
        "'''\n",
        "print(f'O cliente {nome} pesa {peso:.0f} kg, mede {altura} metros e seu imc é {imc:.2f}')"
      ],
      "metadata": {
        "id": "lhDCevKqa7DJ",
        "colab": {
          "base_uri": "https://localhost:8080/"
        },
        "outputId": "1da69eeb-2080-41cc-bce3-37654805799d"
      },
      "execution_count": null,
      "outputs": [
        {
          "output_type": "stream",
          "name": "stdout",
          "text": [
            "O cliente Douglas pesa 84 kg, mede 1.85 metros e seu imc é 24.54\n"
          ]
        }
      ]
    },
    {
      "cell_type": "markdown",
      "source": [
        "# 5 - Métodos de strings"
      ],
      "metadata": {
        "id": "-CmDrOAjOiHu"
      }
    },
    {
      "cell_type": "code",
      "source": [
        "'''\n",
        "Este bloco traz possível soluções para quando queremos saber qual caracter temos\n",
        "em uma posição (índice) ou sequência de caracteres em um intervalo\n",
        "'''\n",
        "# 0    1   2   3   4   5  6  7  8  9 10 11 12 13 (índice)\n",
        "# -14 -13 -12 -11 -10 -9 -8 -7 -6 -5 -4 -3 -2 -1 (índice reverso)\n",
        "# 1º 2º 3º 4º 5º 6º 7º 8º 9º 10º 11º 12º 13º 14º (ordinal)\n",
        "# d  o  u  g  @  g  m  a  i   l   .   c   o   m\n",
        "email = 'doug@gmail.com'\n",
        "# Fatiamento de strings\n",
        "'''\n",
        "Vamos exibir o primeiro caracter da string email\n",
        "'''\n",
        "print(email[0])\n",
        "'''\n",
        "Vamos guardar o primeiro caracter da string email em uma variável chamada primeiro\n",
        "'''\n",
        "primeiro = email[0]\n",
        "print(primeiro)\n",
        "\n",
        "'''\n",
        "Agora vamos fatiar todo o prefixo doug da string email e guardar em uma\n",
        "variável chamada prefixo. em Python dentro dos colchetes a esquerda dos :\n",
        "temos o índice de início e ele é do tipo inclusive, e a direita dos : temos\n",
        "o índice do final que é do tipo exclusive.\n",
        "'''\n",
        "prefixo = email[0:4]\n",
        "print(prefixo)\n",
        "'''\n",
        "imagine que você deseja percorrer todos os valores da sequencia e exibir um sim\n",
        "e outro não\n",
        "'''\n",
        "print(email[::2])\n",
        "\n",
        "'''\n",
        "Resumindo a sintaxe do fatiamento\n",
        "\n",
        "nome_da_string[início(inclusive):fim(exclusive):passo]\n",
        "'''\n"
      ],
      "metadata": {
        "id": "8te7cqTuOhub",
        "colab": {
          "base_uri": "https://localhost:8080/",
          "height": 104
        },
        "outputId": "69008c15-f079-4e1f-86b3-ea2cacda8bbc"
      },
      "execution_count": null,
      "outputs": [
        {
          "output_type": "stream",
          "name": "stdout",
          "text": [
            "d\n",
            "d\n",
            "doug\n",
            "du@mi.o\n"
          ]
        },
        {
          "output_type": "execute_result",
          "data": {
            "text/plain": [
              "'\\nResumindo a sintaxe do fatiamento\\n\\nnome_da_string[início(inclusive):fim(exclusive):passo]\\n'"
            ],
            "application/vnd.google.colaboratory.intrinsic+json": {
              "type": "string"
            }
          },
          "metadata": {},
          "execution_count": 34
        }
      ]
    },
    {
      "cell_type": "code",
      "source": [
        "'''\n",
        "Imagine que você deseja contar a quantidade de caracteres de uma sequência\n",
        "'''\n",
        "email = 'doug@gmail.com'\n",
        "\n",
        "len(email)"
      ],
      "metadata": {
        "id": "hyEtGJEoR8W5",
        "colab": {
          "base_uri": "https://localhost:8080/"
        },
        "outputId": "b686088e-b6c1-49be-9fd3-bea3cbefb2e6"
      },
      "execution_count": null,
      "outputs": [
        {
          "output_type": "execute_result",
          "data": {
            "text/plain": [
              "14"
            ]
          },
          "metadata": {},
          "execution_count": 35
        }
      ]
    },
    {
      "cell_type": "code",
      "source": [
        "# Operador IN\n",
        "'''\n",
        "Testa de um caracter ou sequência de caracteres está ou não presente em uma string\n",
        "e retorna como resultado verdadeiro (True) ou Falso (False)\n",
        "'''\n",
        "email = 'doug@gmail.com'\n",
        "'d' in email"
      ],
      "metadata": {
        "id": "Qs9m2LAySO_G",
        "colab": {
          "base_uri": "https://localhost:8080/"
        },
        "outputId": "55d71ebe-e958-4bb8-d423-5ce074aa6208"
      },
      "execution_count": null,
      "outputs": [
        {
          "output_type": "execute_result",
          "data": {
            "text/plain": [
              "True"
            ]
          },
          "metadata": {},
          "execution_count": 36
        }
      ]
    },
    {
      "cell_type": "code",
      "source": [
        "# Operador IN\n",
        "'''\n",
        "Testa de um caracter ou sequência de caracteres não está ou não presente em uma string\n",
        "e retorna como resultado verdadeiro (True) ou Falso (False)\n",
        "'''\n",
        "email = 'doug@gmail.com'\n",
        "'d'  not in email"
      ],
      "metadata": {
        "id": "1qpbR33GS12E",
        "colab": {
          "base_uri": "https://localhost:8080/"
        },
        "outputId": "3907f558-2264-4690-ca4e-23fcfd7036aa"
      },
      "execution_count": null,
      "outputs": [
        {
          "output_type": "execute_result",
          "data": {
            "text/plain": [
              "False"
            ]
          },
          "metadata": {},
          "execution_count": 37
        }
      ]
    },
    {
      "cell_type": "code",
      "source": [
        "'''\n",
        "capitalize é um método que quando aplicado deixa apenas a primeira letra de uma\n",
        "string em caixa alta (maiúscula)\n",
        "'''\n",
        "\n",
        "nome = 'douglas'\n",
        "print(nome)\n",
        "nome = nome.capitalize()\n",
        "print(nome)"
      ],
      "metadata": {
        "id": "LIGu3pAoS8CI",
        "colab": {
          "base_uri": "https://localhost:8080/"
        },
        "outputId": "fd2df2f5-b70f-4405-ffee-aa711929c23e"
      },
      "execution_count": null,
      "outputs": [
        {
          "output_type": "stream",
          "name": "stdout",
          "text": [
            "douglas\n",
            "Douglas\n"
          ]
        }
      ]
    },
    {
      "cell_type": "code",
      "source": [
        "'''\n",
        "Imagine que você deseja deixar o primeiro caracter de cada palavra de uma\n",
        "string composta em caixa alta\n",
        "'''\n",
        "nome_completo = 'douglas almeida ribeiro'\n",
        "print(nome_completo)\n",
        "nome_completo = nome_completo.capitalize()\n",
        "print(nome_completo)\n",
        "nome_completo = nome_completo.title()\n",
        "print(nome_completo)"
      ],
      "metadata": {
        "id": "o6DiehvATeEQ",
        "colab": {
          "base_uri": "https://localhost:8080/"
        },
        "outputId": "ee05378d-6310-462a-de1a-a14e5ff702c9"
      },
      "execution_count": null,
      "outputs": [
        {
          "output_type": "stream",
          "name": "stdout",
          "text": [
            "douglas almeida ribeiro\n",
            "Douglas almeida ribeiro\n",
            "Douglas Almeida Ribeiro\n"
          ]
        }
      ]
    },
    {
      "cell_type": "code",
      "source": [
        "'''\n",
        "Imagine que você deseja colocar todas as letras em caixa alta\n",
        "'''\n",
        "nome = 'douglas'\n",
        "print(nome)\n",
        "nome = nome.upper()\n",
        "print(nome)"
      ],
      "metadata": {
        "id": "t5ZCQgwLUBMY",
        "colab": {
          "base_uri": "https://localhost:8080/"
        },
        "outputId": "7df490b3-ab42-4fc3-9c00-d72a97e751ff"
      },
      "execution_count": null,
      "outputs": [
        {
          "output_type": "stream",
          "name": "stdout",
          "text": [
            "douglas\n",
            "DOUGLAS\n"
          ]
        }
      ]
    },
    {
      "cell_type": "code",
      "source": [
        "'''\n",
        "Método para deixar todas as letras em ciaxa baixa\n",
        "'''\n",
        "nome = 'DOUGLAS'\n",
        "print(nome)\n",
        "nome = nome.lower()\n",
        "print(nome)"
      ],
      "metadata": {
        "id": "Th5tC8lIUYZK",
        "colab": {
          "base_uri": "https://localhost:8080/"
        },
        "outputId": "65540294-2d18-4628-8a3b-f9f319c880a7"
      },
      "execution_count": null,
      "outputs": [
        {
          "output_type": "stream",
          "name": "stdout",
          "text": [
            "DOUGLAS\n",
            "douglas\n"
          ]
        }
      ]
    },
    {
      "cell_type": "code",
      "source": [
        "'''\n",
        "Imagine que você deseja saber se uma string começa com um determinado caracter\n",
        "ou sequência de caracteres\n",
        "'''\n",
        "nome = 'douglas'\n",
        "nome.startswith('doug')"
      ],
      "metadata": {
        "id": "rFPeQjn1U3Hp",
        "colab": {
          "base_uri": "https://localhost:8080/"
        },
        "outputId": "36d8f75a-fc97-4f2f-fdf4-10f84eb10f28"
      },
      "execution_count": null,
      "outputs": [
        {
          "output_type": "execute_result",
          "data": {
            "text/plain": [
              "True"
            ]
          },
          "metadata": {},
          "execution_count": 46
        }
      ]
    },
    {
      "cell_type": "code",
      "source": [
        "'''\n",
        "Imagine que você deseja saber se uma string termina com um determinado caracter\n",
        "ou sequência de caracteres\n",
        "'''\n",
        "nome = 'douglas'\n",
        "nome.endswith('las')"
      ],
      "metadata": {
        "id": "KpowVpFJVXfy",
        "colab": {
          "base_uri": "https://localhost:8080/"
        },
        "outputId": "f70a0e9a-b451-4284-bfa0-041053e539e5"
      },
      "execution_count": null,
      "outputs": [
        {
          "output_type": "execute_result",
          "data": {
            "text/plain": [
              "True"
            ]
          },
          "metadata": {},
          "execution_count": 50
        }
      ]
    },
    {
      "cell_type": "code",
      "source": [
        "'''\n",
        "imagine que você deseja dividir uma string em várias\n",
        "'''\n",
        "n = '1 2 3 4 5'\n",
        "len(n)\n",
        "ns = n.split()\n",
        "print(ns)"
      ],
      "metadata": {
        "id": "fMggzozAVkDS",
        "colab": {
          "base_uri": "https://localhost:8080/"
        },
        "outputId": "346223aa-d5a0-4f02-fec2-bee6a3e2164b"
      },
      "execution_count": null,
      "outputs": [
        {
          "output_type": "stream",
          "name": "stdout",
          "text": [
            "['1', '2', '3', '4', '5']\n"
          ]
        }
      ]
    },
    {
      "cell_type": "markdown",
      "source": [
        "# 6 - Listas"
      ],
      "metadata": {
        "id": "jKrnfUm-apBG"
      }
    },
    {
      "cell_type": "code",
      "source": [
        "nomes = ['Douglas','Daniela','Pedro','Maria','Eduardo','Ester']\n",
        "pesos = [82,32,89,67,92,68]\n",
        "alturas = [1.85,1.35,1.70,1.71,1.82,1.72]"
      ],
      "metadata": {
        "id": "C9x87vXVawtj"
      },
      "execution_count": null,
      "outputs": []
    },
    {
      "cell_type": "code",
      "source": [
        "'''\n",
        "Inserindo um valor sempre na última posição da lista\n",
        "'''\n",
        "nomes = ['Douglas','Daniela','Pedro','Maria','Eduardo','Ester']\n",
        "print(nomes)\n",
        "pesos = [82,32,89,67,92,68]\n",
        "print(pesos)\n",
        "alturas = [1.85,1.35,1.70,1.71,1.82,1.72]\n",
        "print(alturas)\n",
        "nomes.append('Tobias')\n",
        "print(nomes)\n",
        "pesos.append(70)\n",
        "print(pesos)\n",
        "alturas.append(1.75)\n",
        "print(alturas)"
      ],
      "metadata": {
        "id": "3wv_zXLeb_ni"
      },
      "execution_count": null,
      "outputs": []
    },
    {
      "cell_type": "code",
      "source": [
        "'''\n",
        "Inserindo um elemento em uma posição específica de uma lista\n",
        "por exemplo:\n",
        "inserir o elemento José na lista nomes no índice 3 e nas outras lista seus\n",
        "valores correspondentes na mesma posição\n",
        "'''\n",
        "i = 3\n",
        "nomes.insert(i,'José')\n",
        "pesos.insert(i,75)\n",
        "alturas.insert(i,1.80)\n",
        "print(nomes)\n",
        "print(pesos)\n",
        "print(alturas)"
      ],
      "metadata": {
        "id": "JIpSEHEccqE-"
      },
      "execution_count": null,
      "outputs": []
    },
    {
      "cell_type": "code",
      "source": [
        "'''\n",
        "Reovendo valores das listas método pop() (usa o índice como referência para a\n",
        "exclusaão do valor)\n",
        "'''\n",
        "nomes = ['Douglas','Daniela','Pedro','Maria','Eduardo','Ester']\n",
        "pesos = [82,32,89,67,92,68]\n",
        "alturas = [1.85,1.35,1.70,1.71,1.82,1.72]\n",
        "nomes.pop(4)\n",
        "print(nomes)\n",
        "print(pesos)\n",
        "print(alturas)"
      ],
      "metadata": {
        "id": "TUsH1GCAdhvR"
      },
      "execution_count": null,
      "outputs": []
    },
    {
      "cell_type": "code",
      "source": [
        "'''\n",
        "Removendo valores das listas método remove (usa o valor como referência\n",
        "para a exclusão)\n",
        "'''\n",
        "nomes = ['Douglas','Daniela','Pedro','Maria','Eduardo','Ester']\n",
        "pesos = [82,32,89,67,92,68]\n",
        "alturas = [1.85,1.35,1.70,1.71,1.82,1.72]\n",
        "nomes.remove('Eduardo')\n",
        "print(nomes)\n",
        "print(pesos)\n",
        "print(alturas)"
      ],
      "metadata": {
        "id": "0q9BKQB9d_FZ"
      },
      "execution_count": null,
      "outputs": []
    },
    {
      "cell_type": "code",
      "source": [
        "'''\n",
        "Método para deixar uma lista vazia\n",
        "'''\n",
        "nomes.clear()\n",
        "print(nomes)"
      ],
      "metadata": {
        "colab": {
          "base_uri": "https://localhost:8080/"
        },
        "id": "OoJuf4tUeT2d",
        "outputId": "07872efd-c70c-4ea1-b62d-e77aa4976eb3"
      },
      "execution_count": null,
      "outputs": [
        {
          "output_type": "stream",
          "name": "stdout",
          "text": [
            "[]\n"
          ]
        }
      ]
    },
    {
      "cell_type": "markdown",
      "source": [
        "# 7 - Estruturas de repetição (FOR)"
      ],
      "metadata": {
        "id": "54I90KYFeinR"
      }
    },
    {
      "cell_type": "code",
      "source": [
        "nomes = ['Douglas','Daniela','Pedro','Maria','Eduardo','Ester']\n",
        "pesos = [82,32,89,67,92,68]\n",
        "alturas = [1.85,1.35,1.70,1.71,1.82,1.72]\n",
        "'''\n",
        "imagine que você deseja percorrer as lista de pesos e alturas e com os\n",
        "valores encontrados, calcular e popular uma lista vazia chamada imc\n",
        "'''\n",
        "imc = []\n",
        "for i in range(len(nomes)):\n",
        "  imc.append(round(pesos[i]/alturas[i]**2,2))\n",
        "print(imc)"
      ],
      "metadata": {
        "id": "QyvHZZZ1eeR7"
      },
      "execution_count": null,
      "outputs": []
    },
    {
      "cell_type": "markdown",
      "source": [
        "# 8 - Estruturas condicionais (IF, ELIF, ELSE)"
      ],
      "metadata": {
        "id": "AcoK98uShJf_"
      }
    },
    {
      "cell_type": "code",
      "source": [
        "'''\n",
        "Imagine que você deseja criar um programa que recebe do usuário uma nota numérica\n",
        "de 0 a 10 e caso essa nota seja maior ou igual a 6, exiba a mensagem:\n",
        "Aprovado, caso contrário exiba a mensagem Reprovado\n",
        "'''\n",
        "nota = float(input('Informe uma nota de 0 a 10: '))\n",
        "if nota >= 6:\n",
        "  print('Aprovado')\n",
        "else:\n",
        "  print('Reprovado')"
      ],
      "metadata": {
        "id": "XpZDlIrchWtU"
      },
      "execution_count": null,
      "outputs": []
    },
    {
      "cell_type": "code",
      "source": [
        "'''\n",
        "Imagine que você deseja criar um programa que recebe do usuário uma nota numérica\n",
        "de 0 a 10 e caso essa nota seja maior ou igual a 6, exiba a mensagem:\n",
        "Aprovado, se a nota for menor que 6, mas maior ou igual a 4, exiba a mensagem:\n",
        "Recuperação caso contrário exiba a mensagem Reprovado\n",
        "'''\n",
        "nota = float(input('Informe uma nota de 0 a 10: '))\n",
        "if nota >= 6:\n",
        "  print('Aprovado')\n",
        "elif nota >= 4:\n",
        "  print('Recuperação')\n",
        "else:\n",
        "  print('Reprovado')"
      ],
      "metadata": {
        "id": "Eg0kT67viYr-"
      },
      "execution_count": null,
      "outputs": []
    },
    {
      "cell_type": "markdown",
      "source": [
        "# 9 - Loop While"
      ],
      "metadata": {
        "id": "i_9vV3-xjR8f"
      }
    },
    {
      "cell_type": "code",
      "source": [
        "'''\n",
        "Imagine que o usuário pode digitir n notas e o critério para a mensagem é\n",
        "o mesmo do bloco anterior, porém usando a médias das notas digitadas\n",
        "como parâmetro\n",
        "'''\n",
        "c = 0\n",
        "n = int(input('Informe a quantidade de notas que serão inseridas: '))\n",
        "notas = []\n",
        "while c < n:\n",
        "  notas.append(float(input(f'Informe a {c+1}ª nota: ')))\n",
        "  c += 1\n",
        "media = sum(notas)/len(notas)\n",
        "print(f'A média das notas informadas é {media:.1f}')\n",
        "if media >= 6:\n",
        "  print('Aprovado')\n",
        "elif media >= 4:\n",
        "  print('Recuperação')\n",
        "else:\n",
        "  print('Reprovado')"
      ],
      "metadata": {
        "id": "HsYpudkCjWp8"
      },
      "execution_count": null,
      "outputs": []
    },
    {
      "cell_type": "markdown",
      "source": [
        "# Biblioteca Pandas"
      ],
      "metadata": {
        "id": "2IajfkJhVxUK"
      }
    },
    {
      "cell_type": "markdown",
      "source": [
        "## Criando uma tabela do zero"
      ],
      "metadata": {
        "id": "nKTYVZ3ZWwIY"
      }
    },
    {
      "cell_type": "code",
      "source": [
        "import pandas as pd"
      ],
      "metadata": {
        "id": "a2Sup1CKWC_x"
      },
      "execution_count": null,
      "outputs": []
    },
    {
      "cell_type": "code",
      "source": [
        "nome = ['Douglas','Daniela','Pedro','Maria','Eduardo','Ester']\n",
        "idade = [45,7,65,64,42,37]\n",
        "altura = [1.85,1.23,1.75,1.67,1.82,1.73]\n",
        "peso = [70,22,87,64,96,68]\n",
        "sexo = ['M','F','M','F','M','F']\n",
        "df = pd.DataFrame(zip(nome,idade,altura,peso,sexo),\n",
        "                  columns=['nome','idade','altura','peso','sexo'])\n",
        "display(df)"
      ],
      "metadata": {
        "id": "fcjGV2SEV2AQ"
      },
      "execution_count": null,
      "outputs": []
    },
    {
      "cell_type": "code",
      "source": [
        "# Lendo um arquivo da web\n",
        "df2 = pd.read_csv('https://docs.google.com/spreadsheets/d/e/2PACX-1vQrRM0XPunw8P3rgQIJMxvG-340996ibvk6BJju-fzcqZRhoxst1irfRRB6drFLogtDXKhWRfED_Inw/pub?gid=1773149940&single=true&output=csv')"
      ],
      "metadata": {
        "id": "-VXsPFGygbg-"
      },
      "execution_count": null,
      "outputs": []
    },
    {
      "cell_type": "code",
      "source": [
        "# Transformando um df em csv\n",
        "df2.to_csv('exemplo.csv',index=False)"
      ],
      "metadata": {
        "id": "_qfc6DmpUGrs"
      },
      "execution_count": null,
      "outputs": []
    }
  ]
}